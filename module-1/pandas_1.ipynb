{
 "cells": [
  {
   "cell_type": "code",
   "execution_count": 25,
   "metadata": {},
   "outputs": [],
   "source": [
    "import pandas as pd"
   ]
  },
  {
   "cell_type": "code",
   "execution_count": 51,
   "metadata": {},
   "outputs": [],
   "source": [
    "df = pd.read_csv(\"dataset_521000_9.txt\", sep=\";\", encoding=\"utf-8\")"
   ]
  },
  {
   "cell_type": "code",
   "execution_count": 52,
   "metadata": {},
   "outputs": [
    {
     "name": "stdout",
     "output_type": "stream",
     "text": [
      "       seller_id  quantity       date  period\n",
      "7212           0        40 2021-06-01       1\n",
      "260            0        17 2021-06-02       1\n",
      "7744           0        25 2021-06-03       1\n",
      "9111           0        37 2021-06-04       1\n",
      "4510           0        22 2021-06-05       1\n",
      "...          ...       ...        ...     ...\n",
      "831          498        19 2021-06-27    2129\n",
      "1565         498        20 2021-06-28    2129\n",
      "4533         499        14 2021-06-27    2130\n",
      "10144        499        29 2021-06-28    2130\n",
      "9505         500        12 2021-06-28    2131\n",
      "\n",
      "[10331 rows x 4 columns]\n"
     ]
    }
   ],
   "source": [
    "df[\"date\"] = pd.to_datetime(df[\"date\"])\n",
    "df.sort_values(by=[\"seller_id\", \"date\"], inplace=True)\n",
    "\n",
    "df[\"date_diff\"] = df.groupby(\"seller_id\")[\"date\"].diff()\n",
    "df[\"period_start\"] = (df[\"date_diff\"] > pd.Timedelta(days=1)) | df[\"date_diff\"].isna()\n",
    "\n",
    "df[\"period\"] = df[\"period_start\"].cumsum()\n",
    "\n",
    "df.drop([\"date_diff\", \"period_start\"], axis=1, inplace=True)\n",
    "\n",
    "print(df)"
   ]
  },
  {
   "cell_type": "code",
   "execution_count": 63,
   "metadata": {},
   "outputs": [],
   "source": [
    "mean_period_length = df.groupby(\"period\")[\"date\"].count().mean()"
   ]
  },
  {
   "cell_type": "code",
   "execution_count": 64,
   "metadata": {},
   "outputs": [],
   "source": [
    "mean_sales_count = df.groupby(\"period\")[\"quantity\"].mean().mean()"
   ]
  },
  {
   "cell_type": "code",
   "execution_count": 65,
   "metadata": {},
   "outputs": [],
   "source": [
    "mean_periods_count = df.groupby(\"seller_id\")[\"period\"].nunique().mean()"
   ]
  },
  {
   "cell_type": "code",
   "execution_count": 66,
   "metadata": {},
   "outputs": [
    {
     "data": {
      "text/plain": [
       "'mean_period_length:4.848 mean_sales_count:19.870 mean_periods_count:4.253'"
      ]
     },
     "execution_count": 66,
     "metadata": {},
     "output_type": "execute_result"
    }
   ],
   "source": [
    "f\"mean_period_length:{mean_period_length:.3f} mean_sales_count:{mean_sales_count:.3f} mean_periods_count:{mean_periods_count:.3f}\""
   ]
  }
 ],
 "metadata": {
  "kernelspec": {
   "display_name": "Python 3",
   "language": "python",
   "name": "python3"
  },
  "language_info": {
   "codemirror_mode": {
    "name": "ipython",
    "version": 3
   },
   "file_extension": ".py",
   "mimetype": "text/x-python",
   "name": "python",
   "nbconvert_exporter": "python",
   "pygments_lexer": "ipython3",
   "version": "3.11.3"
  }
 },
 "nbformat": 4,
 "nbformat_minor": 2
}
