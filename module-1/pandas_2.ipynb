{
 "cells": [
  {
   "cell_type": "code",
   "execution_count": 2,
   "metadata": {},
   "outputs": [],
   "source": [
    "import pandas as pd\n",
    "from sklearn.model_selection import train_test_split"
   ]
  },
  {
   "cell_type": "code",
   "execution_count": 84,
   "metadata": {},
   "outputs": [
    {
     "data": {
      "text/html": [
       "<div>\n",
       "<style scoped>\n",
       "    .dataframe tbody tr th:only-of-type {\n",
       "        vertical-align: middle;\n",
       "    }\n",
       "\n",
       "    .dataframe tbody tr th {\n",
       "        vertical-align: top;\n",
       "    }\n",
       "\n",
       "    .dataframe thead th {\n",
       "        text-align: right;\n",
       "    }\n",
       "</style>\n",
       "<table border=\"1\" class=\"dataframe\">\n",
       "  <thead>\n",
       "    <tr style=\"text-align: right;\">\n",
       "      <th></th>\n",
       "      <th>area</th>\n",
       "      <th>area_raw</th>\n",
       "      <th>item_id</th>\n",
       "      <th>type_of_house</th>\n",
       "      <th>floor</th>\n",
       "      <th>floors_in_house</th>\n",
       "      <th>rooms_number</th>\n",
       "      <th>price</th>\n",
       "      <th>district</th>\n",
       "      <th>price_order_id</th>\n",
       "    </tr>\n",
       "  </thead>\n",
       "  <tbody>\n",
       "    <tr>\n",
       "      <th>0</th>\n",
       "      <td>91.0</td>\n",
       "      <td>91.0</td>\n",
       "      <td>198518500076</td>\n",
       "      <td>Кирпичный</td>\n",
       "      <td>3.0</td>\n",
       "      <td>16.0</td>\n",
       "      <td>3</td>\n",
       "      <td>5100000.0</td>\n",
       "      <td>Кировский</td>\n",
       "      <td>1</td>\n",
       "    </tr>\n",
       "    <tr>\n",
       "      <th>1</th>\n",
       "      <td>91.0</td>\n",
       "      <td>91.0</td>\n",
       "      <td>198518500076</td>\n",
       "      <td>Кирпичный</td>\n",
       "      <td>3.0</td>\n",
       "      <td>16.0</td>\n",
       "      <td>3</td>\n",
       "      <td>5100000.0</td>\n",
       "      <td>Кировский</td>\n",
       "      <td>2</td>\n",
       "    </tr>\n",
       "    <tr>\n",
       "      <th>2</th>\n",
       "      <td>91.0</td>\n",
       "      <td>91.0</td>\n",
       "      <td>198518500076</td>\n",
       "      <td>Кирпичный</td>\n",
       "      <td>3.0</td>\n",
       "      <td>16.0</td>\n",
       "      <td>3</td>\n",
       "      <td>5100000.0</td>\n",
       "      <td>Кировский</td>\n",
       "      <td>3</td>\n",
       "    </tr>\n",
       "    <tr>\n",
       "      <th>3</th>\n",
       "      <td>18.7</td>\n",
       "      <td>18.7</td>\n",
       "      <td>257626750244</td>\n",
       "      <td>Кирпичный</td>\n",
       "      <td>4.0</td>\n",
       "      <td>5.0</td>\n",
       "      <td>Студия</td>\n",
       "      <td>1300000.0</td>\n",
       "      <td>Ленинский</td>\n",
       "      <td>1</td>\n",
       "    </tr>\n",
       "    <tr>\n",
       "      <th>4</th>\n",
       "      <td>NaN</td>\n",
       "      <td>NaN</td>\n",
       "      <td>367907500565</td>\n",
       "      <td>Кирпичный</td>\n",
       "      <td>4.0</td>\n",
       "      <td>4.0</td>\n",
       "      <td>4</td>\n",
       "      <td>3500000.0</td>\n",
       "      <td>Кировский</td>\n",
       "      <td>1</td>\n",
       "    </tr>\n",
       "    <tr>\n",
       "      <th>...</th>\n",
       "      <td>...</td>\n",
       "      <td>...</td>\n",
       "      <td>...</td>\n",
       "      <td>...</td>\n",
       "      <td>...</td>\n",
       "      <td>...</td>\n",
       "      <td>...</td>\n",
       "      <td>...</td>\n",
       "      <td>...</td>\n",
       "      <td>...</td>\n",
       "    </tr>\n",
       "    <tr>\n",
       "      <th>124571</th>\n",
       "      <td>33.0</td>\n",
       "      <td>33.0</td>\n",
       "      <td>832255750867</td>\n",
       "      <td>Кирпичный</td>\n",
       "      <td>10.0</td>\n",
       "      <td>10.0</td>\n",
       "      <td>Студия</td>\n",
       "      <td>2950000.0</td>\n",
       "      <td>Заельцовский</td>\n",
       "      <td>2</td>\n",
       "    </tr>\n",
       "    <tr>\n",
       "      <th>124572</th>\n",
       "      <td>33.0</td>\n",
       "      <td>33.0</td>\n",
       "      <td>832255750867</td>\n",
       "      <td>Кирпичный</td>\n",
       "      <td>10.0</td>\n",
       "      <td>10.0</td>\n",
       "      <td>Студия</td>\n",
       "      <td>2950000.0</td>\n",
       "      <td>Заельцовский</td>\n",
       "      <td>3</td>\n",
       "    </tr>\n",
       "    <tr>\n",
       "      <th>124573</th>\n",
       "      <td>51.0</td>\n",
       "      <td>51.0</td>\n",
       "      <td>833043000375</td>\n",
       "      <td>Панельный</td>\n",
       "      <td>4.0</td>\n",
       "      <td>10.0</td>\n",
       "      <td>2</td>\n",
       "      <td>3300000.0</td>\n",
       "      <td>Октябрьский</td>\n",
       "      <td>1</td>\n",
       "    </tr>\n",
       "    <tr>\n",
       "      <th>124574</th>\n",
       "      <td>51.0</td>\n",
       "      <td>51.0</td>\n",
       "      <td>833043000375</td>\n",
       "      <td>Панельный</td>\n",
       "      <td>4.0</td>\n",
       "      <td>10.0</td>\n",
       "      <td>2</td>\n",
       "      <td>3300000.0</td>\n",
       "      <td>Октябрьский</td>\n",
       "      <td>2</td>\n",
       "    </tr>\n",
       "    <tr>\n",
       "      <th>124575</th>\n",
       "      <td>39.0</td>\n",
       "      <td>39.0</td>\n",
       "      <td>833457750943</td>\n",
       "      <td>Панельный</td>\n",
       "      <td>9.0</td>\n",
       "      <td>10.0</td>\n",
       "      <td>1</td>\n",
       "      <td>2800000.0</td>\n",
       "      <td>Октябрьский</td>\n",
       "      <td>1</td>\n",
       "    </tr>\n",
       "  </tbody>\n",
       "</table>\n",
       "<p>124576 rows × 10 columns</p>\n",
       "</div>"
      ],
      "text/plain": [
       "        area  area_raw       item_id type_of_house  floor  floors_in_house   \n",
       "0       91.0      91.0  198518500076     Кирпичный    3.0             16.0  \\\n",
       "1       91.0      91.0  198518500076     Кирпичный    3.0             16.0   \n",
       "2       91.0      91.0  198518500076     Кирпичный    3.0             16.0   \n",
       "3       18.7      18.7  257626750244     Кирпичный    4.0              5.0   \n",
       "4        NaN       NaN  367907500565     Кирпичный    4.0              4.0   \n",
       "...      ...       ...           ...           ...    ...              ...   \n",
       "124571  33.0      33.0  832255750867     Кирпичный   10.0             10.0   \n",
       "124572  33.0      33.0  832255750867     Кирпичный   10.0             10.0   \n",
       "124573  51.0      51.0  833043000375     Панельный    4.0             10.0   \n",
       "124574  51.0      51.0  833043000375     Панельный    4.0             10.0   \n",
       "124575  39.0      39.0  833457750943     Панельный    9.0             10.0   \n",
       "\n",
       "       rooms_number      price      district  price_order_id  \n",
       "0                 3  5100000.0     Кировский               1  \n",
       "1                 3  5100000.0     Кировский               2  \n",
       "2                 3  5100000.0     Кировский               3  \n",
       "3            Студия  1300000.0     Ленинский               1  \n",
       "4                 4  3500000.0     Кировский               1  \n",
       "...             ...        ...           ...             ...  \n",
       "124571       Студия  2950000.0  Заельцовский               2  \n",
       "124572       Студия  2950000.0  Заельцовский               3  \n",
       "124573            2  3300000.0   Октябрьский               1  \n",
       "124574            2  3300000.0   Октябрьский               2  \n",
       "124575            1  2800000.0   Октябрьский               1  \n",
       "\n",
       "[124576 rows x 10 columns]"
      ]
     },
     "execution_count": 84,
     "metadata": {},
     "output_type": "execute_result"
    }
   ],
   "source": [
    "df = pd.read_csv(\"real_estate_novosibirsk.csv\")\n",
    "df"
   ]
  },
  {
   "cell_type": "code",
   "execution_count": 85,
   "metadata": {},
   "outputs": [],
   "source": [
    "df = df.drop_duplicates(subset=[\"item_id\"], keep=\"last\")\n",
    "df = df.dropna(subset=[\"area\"])"
   ]
  },
  {
   "cell_type": "code",
   "execution_count": 86,
   "metadata": {},
   "outputs": [],
   "source": [
    "def process_floor(row):\n",
    "    if row[\"floor\"] == 1:\n",
    "        return \"first\"\n",
    "\n",
    "    if row[\"floor\"] == row[\"floors_in_house\"]:\n",
    "        return \"last\"\n",
    "\n",
    "    return \"middle\"\n",
    "\n",
    "\n",
    "df[\"floor_cat\"] = df.apply(process_floor, axis=1)\n",
    "df[\"price_per_meter\"] = df[\"price\"] / df[\"area\"]\n",
    "df = df[(df[\"area\"] > 0) & (df[\"price\"] > 0)]"
   ]
  },
  {
   "cell_type": "code",
   "execution_count": 87,
   "metadata": {},
   "outputs": [
    {
     "data": {
      "text/plain": [
       "(54744.52554744526,\n",
       " 78031.212484994,\n",
       " 23286.686937548744,\n",
       " 19814.49514112214,\n",
       " 112961.24289131712)"
      ]
     },
     "execution_count": 87,
     "metadata": {},
     "output_type": "execute_result"
    }
   ],
   "source": [
    "q1 = df[\"price_per_meter\"].quantile(0.25)\n",
    "q3 = df[\"price_per_meter\"].quantile(0.75)\n",
    "iqr = q3 - q1\n",
    "lower_bound = q1 - 1.5 * iqr\n",
    "upper_bound = q3 + 1.5 * iqr\n",
    "q1, q3, iqr, lower_bound, upper_bound"
   ]
  },
  {
   "cell_type": "code",
   "execution_count": 88,
   "metadata": {},
   "outputs": [],
   "source": [
    "filtered_df = df[\n",
    "    (df[\"price_per_meter\"] >= lower_bound) & (df[\"price_per_meter\"] <= upper_bound)\n",
    "]"
   ]
  },
  {
   "cell_type": "code",
   "execution_count": 89,
   "metadata": {},
   "outputs": [
    {
     "data": {
      "text/plain": [
       "(68278.3232953137, 66014.60245121935)"
      ]
     },
     "execution_count": 89,
     "metadata": {},
     "output_type": "execute_result"
    }
   ],
   "source": [
    "df[\"price_per_meter\"].mean(), filtered_df[\"price_per_meter\"].mean()"
   ]
  },
  {
   "cell_type": "code",
   "execution_count": 90,
   "metadata": {},
   "outputs": [],
   "source": [
    "def mape(y_true, prediction):\n",
    "    return ((y_true - prediction) / y_true).abs().mean()\n",
    "\n",
    "\n",
    "def fit(df):\n",
    "    return df[\"price_per_meter\"].mean()\n",
    "\n",
    "\n",
    "def predict(df, mean_price):\n",
    "    return mean_price * df[\"area\"]"
   ]
  },
  {
   "cell_type": "code",
   "execution_count": 91,
   "metadata": {},
   "outputs": [],
   "source": [
    "def get_bounds(df):\n",
    "    q1 = df[\"price_per_meter\"].quantile(0.25)\n",
    "    q3 = df[\"price_per_meter\"].quantile(0.75)\n",
    "    iqr = q3 - q1\n",
    "    lower_bound = q1 - 1.5 * iqr\n",
    "    upper_bound = q3 + 1.5 * iqr\n",
    "    return lower_bound, upper_bound"
   ]
  },
  {
   "cell_type": "code",
   "execution_count": 92,
   "metadata": {},
   "outputs": [
    {
     "data": {
      "text/plain": [
       "(0.5864909958462239, 0.4084335780025154)"
      ]
     },
     "execution_count": 92,
     "metadata": {},
     "output_type": "execute_result"
    }
   ],
   "source": [
    "X, y = df.drop(\"price\", axis=1), df[\"price\"]\n",
    "X_train, X_test, y_train, y_test = train_test_split(X, y)\n",
    "mean_price = fit(X_train)\n",
    "prediction_train = predict(X_train, mean_price)\n",
    "prediction_test = predict(X_test, mean_price)\n",
    "mape(y_train, prediction_train), mape(y_test, prediction_test)"
   ]
  },
  {
   "cell_type": "code",
   "execution_count": 93,
   "metadata": {},
   "outputs": [
    {
     "data": {
      "text/plain": [
       "(0.23431075034592166, 0.25141536669265413)"
      ]
     },
     "execution_count": 93,
     "metadata": {},
     "output_type": "execute_result"
    }
   ],
   "source": [
    "X, y = df.drop(\"price\", axis=1), df[\"price\"]\n",
    "X_train, X_test, y_train, y_test = train_test_split(X, y)\n",
    "lower_bound, upper_bound = get_bounds(X_train)\n",
    "filter = (X_train[\"price_per_meter\"] >= lower_bound) & (\n",
    "    X_train[\"price_per_meter\"] <= upper_bound\n",
    ")\n",
    "X_train = X_train[filter]\n",
    "y_train = y_train[filter]\n",
    "mean_price = fit(X_train)\n",
    "prediction_train = predict(X_train, mean_price)\n",
    "prediction_test = predict(X_test, mean_price)\n",
    "mape(y_train, prediction_train), mape(y_test, prediction_test)"
   ]
  },
  {
   "cell_type": "code",
   "execution_count": 94,
   "metadata": {},
   "outputs": [],
   "source": [
    "def fit_with_district(df):\n",
    "    mean_price = df[\"price_per_meter\"].mean()\n",
    "    mean_price_by_district = df.groupby(\"district\")[\"price_per_meter\"].mean()\n",
    "    return mean_price, mean_price_by_district\n",
    "\n",
    "\n",
    "def predict_with_district(df, mean_price, mean_price_by_district):\n",
    "    def get_prediction(row):\n",
    "        if row[\"district\"] in mean_price_by_district:\n",
    "            return row[\"area\"] * mean_price_by_district[row[\"district\"]]\n",
    "        else:\n",
    "            return row[\"area\"] * mean_price\n",
    "\n",
    "    return df.apply(get_prediction, axis=1)"
   ]
  },
  {
   "cell_type": "code",
   "execution_count": 95,
   "metadata": {},
   "outputs": [
    {
     "data": {
      "text/plain": [
       "(0.20724926416882886, 0.21928450728338314)"
      ]
     },
     "execution_count": 95,
     "metadata": {},
     "output_type": "execute_result"
    }
   ],
   "source": [
    "X, y = df.drop(\"price\", axis=1), df[\"price\"]\n",
    "X_train, X_test, y_train, y_test = train_test_split(X, y)\n",
    "lower_bound, upper_bound = get_bounds(X_train)\n",
    "filter = (X_train[\"price_per_meter\"] >= lower_bound) & (\n",
    "    X_train[\"price_per_meter\"] <= upper_bound\n",
    ")\n",
    "X_train = X_train[filter]\n",
    "y_train = y_train[filter]\n",
    "mean_price, mean_price_by_district = fit_with_district(X_train)\n",
    "prediction_train = predict_with_district(X_train, mean_price, mean_price_by_district)\n",
    "prediction_test = predict_with_district(X_test, mean_price, mean_price_by_district)\n",
    "mape(y_train, prediction_train), mape(y_test, prediction_test)"
   ]
  },
  {
   "cell_type": "code",
   "execution_count": 96,
   "metadata": {},
   "outputs": [],
   "source": [
    "def fit_with_district_type(df):\n",
    "    mean_price = df[\"price_per_meter\"].mean()\n",
    "    mean_price_by_district = df.groupby(\"district\")[\"price_per_meter\"].mean()\n",
    "    mean_price_by_district_type = df.groupby([\"district\", \"type_of_house\"])[\n",
    "        \"price_per_meter\"\n",
    "    ].mean()\n",
    "    return mean_price, mean_price_by_district, mean_price_by_district_type\n",
    "\n",
    "\n",
    "def predict_with_district_type(\n",
    "    df, mean_price, mean_price_by_district, mean_price_by_district_type\n",
    "):\n",
    "    def get_prediction(row):\n",
    "        if row[\"district\"] in mean_price_by_district:\n",
    "            if row[\"type_of_house\"] in mean_price_by_district_type[row[\"district\"]]:\n",
    "                return (\n",
    "                    row[\"area\"]\n",
    "                    * mean_price_by_district_type[row[\"district\"]][row[\"type_of_house\"]]\n",
    "                )\n",
    "            return row[\"area\"] * mean_price_by_district[row[\"district\"]]\n",
    "        return row[\"area\"] * mean_price\n",
    "\n",
    "    return df.apply(get_prediction, axis=1)"
   ]
  },
  {
   "cell_type": "code",
   "execution_count": 97,
   "metadata": {},
   "outputs": [
    {
     "data": {
      "text/plain": [
       "(0.19092185004108497, 0.2046326013305992)"
      ]
     },
     "execution_count": 97,
     "metadata": {},
     "output_type": "execute_result"
    }
   ],
   "source": [
    "X, y = df.drop(\"price\", axis=1), df[\"price\"]\n",
    "X_train, X_test, y_train, y_test = train_test_split(X, y)\n",
    "lower_bound, upper_bound = get_bounds(X_train)\n",
    "filter = (X_train[\"price_per_meter\"] >= lower_bound) & (\n",
    "    X_train[\"price_per_meter\"] <= upper_bound\n",
    ")\n",
    "X_train = X_train[filter]\n",
    "y_train = y_train[filter]\n",
    "(\n",
    "    mean_price,\n",
    "    mean_price_by_district,\n",
    "    mean_price_by_district_type,\n",
    ") = fit_with_district_type(X_train)\n",
    "prediction_train = predict_with_district_type(\n",
    "    X_train, mean_price, mean_price_by_district, mean_price_by_district_type\n",
    ")\n",
    "prediction_test = predict_with_district_type(\n",
    "    X_test, mean_price, mean_price_by_district, mean_price_by_district_type\n",
    ")\n",
    "mape(y_train, prediction_train), mape(y_test, prediction_test)"
   ]
  },
  {
   "cell_type": "code",
   "execution_count": 98,
   "metadata": {},
   "outputs": [],
   "source": [
    "def fit_with_district_type_floor(df):\n",
    "    mean_price = df[\"price_per_meter\"].mean()\n",
    "    mean_price_by_district = df.groupby(\"district\")[\"price_per_meter\"].mean()\n",
    "    mean_price_by_district_type = df.groupby([\"district\", \"type_of_house\"])[\n",
    "        \"price_per_meter\"\n",
    "    ].mean()\n",
    "    mean_price_by_district_type_floor = df.groupby(\n",
    "        [\"district\", \"type_of_house\", \"floor_cat\"]\n",
    "    )[\"price_per_meter\"].mean()\n",
    "    return (\n",
    "        mean_price,\n",
    "        mean_price_by_district,\n",
    "        mean_price_by_district_type,\n",
    "        mean_price_by_district_type_floor,\n",
    "    )\n",
    "\n",
    "\n",
    "def predict_with_district_type_floor(\n",
    "    df,\n",
    "    mean_price,\n",
    "    mean_price_by_district,\n",
    "    mean_price_by_district_type,\n",
    "    mean_price_by_district_type_floor,\n",
    "):\n",
    "    def get_prediction(row):\n",
    "        if row[\"district\"] in mean_price_by_district_type_floor:\n",
    "            if (\n",
    "                row[\"type_of_house\"]\n",
    "                in mean_price_by_district_type_floor[row[\"district\"]]\n",
    "            ):\n",
    "                if (\n",
    "                    row[\"floor_cat\"]\n",
    "                    in mean_price_by_district_type_floor[row[\"district\"]][\n",
    "                        row[\"type_of_house\"]\n",
    "                    ]\n",
    "                ):\n",
    "                    return (\n",
    "                        row[\"area\"]\n",
    "                        * mean_price_by_district_type_floor[row[\"district\"]][\n",
    "                            row[\"type_of_house\"]\n",
    "                        ][row[\"floor_cat\"]]\n",
    "                    )\n",
    "                return (\n",
    "                    row[\"area\"]\n",
    "                    * mean_price_by_district_type[row[\"district\"]][row[\"type_of_house\"]]\n",
    "                )\n",
    "            return row[\"area\"] * mean_price_by_district[row[\"district\"]]\n",
    "        return row[\"area\"] * mean_price\n",
    "\n",
    "    return df.apply(get_prediction, axis=1)"
   ]
  },
  {
   "cell_type": "code",
   "execution_count": 99,
   "metadata": {},
   "outputs": [
    {
     "data": {
      "text/plain": [
       "(0.18599240008693435, 0.21688010060028978)"
      ]
     },
     "execution_count": 99,
     "metadata": {},
     "output_type": "execute_result"
    }
   ],
   "source": [
    "X, y = df.drop(\"price\", axis=1), df[\"price\"]\n",
    "X_train, X_test, y_train, y_test = train_test_split(X, y)\n",
    "lower_bound, upper_bound = get_bounds(X_train)\n",
    "filter = (X_train[\"price_per_meter\"] >= lower_bound) & (\n",
    "    X_train[\"price_per_meter\"] <= upper_bound\n",
    ")\n",
    "X_train = X_train[filter]\n",
    "y_train = y_train[filter]\n",
    "(\n",
    "    mean_price,\n",
    "    mean_price_by_district,\n",
    "    mean_price_by_district_type,\n",
    "    mean_price_by_district_type_floor,\n",
    ") = fit_with_district_type_floor(X_train)\n",
    "prediction_train = predict_with_district_type_floor(\n",
    "    X_train,\n",
    "    mean_price,\n",
    "    mean_price_by_district,\n",
    "    mean_price_by_district_type,\n",
    "    mean_price_by_district_type_floor,\n",
    ")\n",
    "prediction_test = predict_with_district_type_floor(\n",
    "    X_test,\n",
    "    mean_price,\n",
    "    mean_price_by_district,\n",
    "    mean_price_by_district_type,\n",
    "    mean_price_by_district_type_floor,\n",
    ")\n",
    "mape(y_train, prediction_train), mape(y_test, prediction_test)"
   ]
  },
  {
   "cell_type": "code",
   "execution_count": 102,
   "metadata": {},
   "outputs": [
    {
     "data": {
      "text/plain": [
       "0.19128490259262002"
      ]
     },
     "execution_count": 102,
     "metadata": {},
     "output_type": "execute_result"
    }
   ],
   "source": [
    "X, y = df.drop(\"price\", axis=1), df[\"price\"]\n",
    "lower_bound, upper_bound = get_bounds(X)\n",
    "filter = (X[\"price_per_meter\"] >= lower_bound) & (X[\"price_per_meter\"] <= upper_bound)\n",
    "X = X[filter]\n",
    "y = y[filter]\n",
    "(\n",
    "    mean_price,\n",
    "    mean_price_by_district,\n",
    "    mean_price_by_district_type,\n",
    ") = fit_with_district_type(X)\n",
    "prediction_train = predict_with_district_type(\n",
    "    X, mean_price, mean_price_by_district, mean_price_by_district_type\n",
    ")\n",
    "mape(y, prediction_train)"
   ]
  },
  {
   "cell_type": "code",
   "execution_count": 105,
   "metadata": {},
   "outputs": [],
   "source": [
    "test_df = pd.read_csv(\"dataset_521000_13.txt\", sep=\";\")"
   ]
  },
  {
   "cell_type": "code",
   "execution_count": 107,
   "metadata": {},
   "outputs": [],
   "source": [
    "prediction_test = predict_with_district_type(\n",
    "    test_df, mean_price, mean_price_by_district, mean_price_by_district_type\n",
    ")"
   ]
  },
  {
   "cell_type": "code",
   "execution_count": 109,
   "metadata": {},
   "outputs": [],
   "source": [
    "prediction_test.to_csv(\"solution.csv\", header=False, index=False)"
   ]
  }
 ],
 "metadata": {
  "kernelspec": {
   "display_name": "Python 3",
   "language": "python",
   "name": "python3"
  },
  "language_info": {
   "codemirror_mode": {
    "name": "ipython",
    "version": 3
   },
   "file_extension": ".py",
   "mimetype": "text/x-python",
   "name": "python",
   "nbconvert_exporter": "python",
   "pygments_lexer": "ipython3",
   "version": "3.11.3"
  }
 },
 "nbformat": 4,
 "nbformat_minor": 2
}
